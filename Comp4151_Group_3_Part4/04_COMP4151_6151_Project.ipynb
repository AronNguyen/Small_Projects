{
 "cells": [
  {
   "cell_type": "markdown",
   "metadata": {},
   "source": [
    "# COMP 4151 6151 Project -- Part 4"
   ]
  },
  {
   "cell_type": "markdown",
   "metadata": {},
   "source": [
    "## Due date: November 12, 2020"
   ]
  },
  {
   "cell_type": "markdown",
   "metadata": {},
   "source": [
    "## Team members\n",
    "\n",
    "Describe the contributions and give estimate of contribution percentage for each member of the team, on this assignment.\n",
    "\n",
    "1. Collin Lucido 33%\n",
    "\n",
    "2. Aaron Nguyen 33%\n",
    "\n",
    "3. Stephen Hooker 33%"
   ]
  },
  {
   "cell_type": "markdown",
   "metadata": {},
   "source": [
    "# How to use turn your project assignments.\n",
    "\n",
    "Each group should turn in one zipped folder called COMP4151_GROUP_ID.zip or COMP6151_GROUP_ID.zip\n",
    "\n",
    "The folder should have:\n",
    "\n",
    "* This Jupyter notebook.\n",
    "* Python programs you have developed for your projects.  \n",
    "    * portfolio.py\n",
    "    * etc.\n",
    "* Other addtional materials (e.g. test files)\n",
    "\n"
   ]
  },
  {
   "cell_type": "markdown",
   "metadata": {},
   "source": [
    "# Overview of where we are\n",
    "\n",
    "At this point, you should have a Dash app with some basic features.  Your dash app should take as input (when you run it from the command line input) a portfolio (which should be in a csv format).\n",
    "\n",
    "```\n",
    "python   my_dash_app.py   my_portfolio.csv\n",
    "\n",
    "```\n",
    "\n",
    "Format of the portfolio:\n",
    "\n",
    "```\n",
    "stock_symbol,percentage\n",
    "```"
   ]
  },
  {
   "cell_type": "markdown",
   "metadata": {},
   "source": [
    "**Problem 1**\n",
    "\n",
    "Add features to your Dash app to allow users to add stocks to and remove stocks from a portfolio.\n",
    "\n",
    "In the space below, describe the features, what your app can do; what its limitations are; and technical challenges how have.\n",
    "\n",
    "Notes:\n",
    "\n",
    "* Look at Dash tables."
   ]
  },
  {
   "cell_type": "markdown",
   "metadata": {},
   "source": [
    "ANSWER:\n",
    "\n",
    "\n",
    "\n",
    "\n",
    "\n"
   ]
  },
  {
   "cell_type": "markdown",
   "metadata": {},
   "source": [
    "**Problem 2**\n",
    "\n",
    "Add features to your Dash app to allow users experiment with different investment strategies.    Start with allowing them to change percentages of stocks via the Dash app.\n",
    "\n",
    "The app should show the outcome of the current investment strategy/portfolio in terms of return of investment and volatility of the portforlio.\n",
    "\n",
    "How good is the portfolio compared to the SP500 index?\n",
    "\n",
    "If the user wants to add capitals to the portfolio, (e.g. each month someone can deposits a small amount of money into the portfolio), where (which stocks in the portfolio) would you suggest to spend the money?\n",
    "\n",
    "\n",
    "In the space below, describe the features, what your app can do; what its limitations are; and technical challenges how have."
   ]
  },
  {
   "cell_type": "markdown",
   "metadata": {},
   "source": [
    "**ANSWER:**\n",
    "\n",
    "The App currently provides information such as: Stock Symbol, its allocation in the portolio, the weighted ROI and Voltillity, and the capital distrubition base on how much money you invest.\n",
    "\n",
    "While it does provide useful information about a stock you can only view the graph of a stock only by inputing its symbol and would need to do this ever time to view its graph or information.\n",
    "\n",
    "The App still needs work. It is in consistant as sometimes it would only show 1 or multiple stock in a datatable. The graph seems to be working fine but the datatable still needs more work as its not functioning as it should be.\n",
    "\n",
    "\n",
    "\n",
    "\n"
   ]
  },
  {
   "cell_type": "markdown",
   "metadata": {},
   "source": [
    "# References\n",
    "\n",
    "List all online and offline references (or people) you consulted for this assignment.  If you use code from sources that are not listed here, you will get a zero for this assignment for plagiarism.  There is no excuse.\n",
    "\n",
    "1. \n",
    "2. \n",
    "\n"
   ]
  }
 ],
 "metadata": {
  "kernelspec": {
   "display_name": "Python 3",
   "language": "python",
   "name": "python3"
  },
  "language_info": {
   "codemirror_mode": {
    "name": "ipython",
    "version": 3
   },
   "file_extension": ".py",
   "mimetype": "text/x-python",
   "name": "python",
   "nbconvert_exporter": "python",
   "pygments_lexer": "ipython3",
   "version": "3.8.3"
  }
 },
 "nbformat": 4,
 "nbformat_minor": 4
}
